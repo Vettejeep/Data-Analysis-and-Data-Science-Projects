{
 "cells": [
  {
   "cell_type": "markdown",
   "metadata": {},
   "source": [
    "# K-Means and the UCI Wholesale Customer Data Set\n",
    "### Kevin Maher\n",
    "### <span style=\"color:blue\">Vettejeep365@gmail.com</span>"
   ]
  },
  {
   "cell_type": "markdown",
   "metadata": {},
   "source": [
    "Imports needed for the script.  Uses Python 2.7.13, numpy 1.11.3, pandas 0.19.2, sklearn 0.18.1, scipy 0.18.1, matplotlib 2.0.0."
   ]
  },
  {
   "cell_type": "code",
   "execution_count": 121,
   "metadata": {
    "collapsed": true
   },
   "outputs": [],
   "source": [
    "%matplotlib inline\n",
    "\n",
    "import pandas as pd\n",
    "import numpy as np\n",
    "from sklearn.preprocessing import StandardScaler\n",
    "from sklearn.cluster import KMeans\n",
    "from scipy.spatial.distance import cdist\n",
    "import matplotlib.pyplot as plt"
   ]
  },
  {
   "cell_type": "markdown",
   "metadata": {},
   "source": [
    "Read in the data, it is from the UCI Wholesale Customer Dataset at:\n",
    "https://archive.ics.uci.edu/ml/datasets/wholesale+customers."
   ]
  },
  {
   "cell_type": "code",
   "execution_count": 122,
   "metadata": {
    "collapsed": true
   },
   "outputs": [],
   "source": [
    "df = pd.read_csv('Wholesale customers data.csv')"
   ]
  },
  {
   "cell_type": "markdown",
   "metadata": {},
   "source": [
    "Create a feature for total customer size. Note: 'Delicassen' misspelled in original data file."
   ]
  },
  {
   "cell_type": "code",
   "execution_count": 123,
   "metadata": {
    "collapsed": false
   },
   "outputs": [
    {
     "name": "stdout",
     "output_type": "stream",
     "text": [
      "   Channel  Region  Fresh  Milk  Grocery  Frozen  Detergents_Paper  \\\n",
      "0        2       3  12669  9656     7561     214              2674   \n",
      "1        2       3   7057  9810     9568    1762              3293   \n",
      "2        2       3   6353  8808     7684    2405              3516   \n",
      "3        1       3  13265  1196     4221    6404               507   \n",
      "4        2       3  22615  5410     7198    3915              1777   \n",
      "\n",
      "   Delicassen  Total  \n",
      "0        1338  34112  \n",
      "1        1776  33266  \n",
      "2        7844  36610  \n",
      "3        1788  27381  \n",
      "4        5185  46100  \n"
     ]
    }
   ],
   "source": [
    "df['Total'] = df['Fresh'] + df['Milk'] + df['Grocery'] + df['Frozen'] + df['Detergents_Paper'] + df['Delicassen']\n",
    "print df.head()"
   ]
  },
  {
   "cell_type": "markdown",
   "metadata": {},
   "source": [
    "Add a function to convert and join dummy variables to the model.  If source df = dest df then remember to delete the original catagorical variable."
   ]
  },
  {
   "cell_type": "code",
   "execution_count": 124,
   "metadata": {
    "collapsed": true
   },
   "outputs": [],
   "source": [
    "def get_dummies(source_df, dest_df, col):\n",
    "    dummies = pd.get_dummies(source_df[col], prefix=col)\n",
    "\n",
    "    print 'Quantities for %s column' % col\n",
    "    for col in dummies:\n",
    "        print '%s: %d' % (col, np.sum(dummies[col]))\n",
    "    print\n",
    "\n",
    "    dest_df = dest_df.join(dummies)\n",
    "    return dest_df"
   ]
  },
  {
   "cell_type": "markdown",
   "metadata": {},
   "source": [
    "Process dummy variables for the 'Channel' and 'Region' features.  Drop original categorical feature, plus drop one of the dummy variables for 'leave one out' encoding. "
   ]
  },
  {
   "cell_type": "code",
   "execution_count": 125,
   "metadata": {
    "collapsed": false
   },
   "outputs": [
    {
     "name": "stdout",
     "output_type": "stream",
     "text": [
      "Quantities for Channel column\n",
      "Channel_1: 298\n",
      "Channel_2: 142\n",
      "\n",
      "Quantities for Region column\n",
      "Region_1: 77\n",
      "Region_2: 47\n",
      "Region_3: 316\n",
      "\n",
      "   Fresh  Milk  Grocery  Frozen  Detergents_Paper  Delicassen  Total  \\\n",
      "0  12669  9656     7561     214              2674        1338  34112   \n",
      "1   7057  9810     9568    1762              3293        1776  33266   \n",
      "2   6353  8808     7684    2405              3516        7844  36610   \n",
      "3  13265  1196     4221    6404               507        1788  27381   \n",
      "4  22615  5410     7198    3915              1777        5185  46100   \n",
      "\n",
      "   Channel_Horeca  Region_Lisbon  Region_Oporto  \n",
      "0               0              0              0  \n",
      "1               0              0              0  \n",
      "2               0              0              0  \n",
      "3               1              0              0  \n",
      "4               0              0              0  \n"
     ]
    }
   ],
   "source": [
    "df = get_dummies(df, df, 'Channel')\n",
    "df.drop(['Channel', 'Channel_2'], axis=1, inplace=True)\n",
    "df = get_dummies(df, df, 'Region')\n",
    "df.drop(['Region', 'Region_3'], axis=1, inplace=True)\n",
    "df.rename(index=str, columns={'Channel_1': 'Channel_Horeca', 'Region_1': 'Region_Lisbon', 'Region_2': 'Region_Oporto'},\n",
    "                              inplace=True)\n",
    "print df.head()"
   ]
  },
  {
   "cell_type": "markdown",
   "metadata": {},
   "source": [
    "Plot a histogram of customer size, shows a small number of large customers, many smaller customers."
   ]
  },
  {
   "cell_type": "code",
   "execution_count": 126,
   "metadata": {
    "collapsed": false
   },
   "outputs": [
    {
     "data": {
      "image/png": "[encoded data removed]",
      "text/plain": [
       "<matplotlib.figure.Figure at 0xdb60390>"
      ]
     },
     "metadata": {},
     "output_type": "display_data"
    }
   ],
   "source": [
    "plt.hist(df['Total'], bins=32)\n",
    "plt.xlabel('Total Purchases')\n",
    "plt.ylabel('Number of Customers')\n",
    "plt.title('Histogram of Customer Size')\n",
    "plt.show()\n",
    "plt.close()"
   ]
  },
  {
   "cell_type": "markdown",
   "metadata": {},
   "source": [
    "Scale the data so no category dominates due to numeric scale."
   ]
  },
  {
   "cell_type": "code",
   "execution_count": 127,
   "metadata": {
    "collapsed": true
   },
   "outputs": [],
   "source": [
    "sc = StandardScaler()\n",
    "sc.fit(df)\n",
    "X = sc.transform(df)"
   ]
  },
  {
   "cell_type": "markdown",
   "metadata": {},
   "source": [
    "Set up a plotting function for K Means output."
   ]
  },
  {
   "cell_type": "code",
   "execution_count": 128,
   "metadata": {
    "collapsed": true
   },
   "outputs": [],
   "source": [
    "def plot_kmeans(pred, centroids, x_name, y_name, x_idx, y_idx, k):\n",
    "    for i in range(0, k):\n",
    "        plt.scatter(df[x_name].loc[pred == i], df[y_name].loc[pred == i], s=6,\n",
    "                    c=colors[i], marker=markers[i], label='Cluster %d' % (i + 1))\n",
    "\n",
    "    centroids = sc.inverse_transform(kmeans.cluster_centers_)\n",
    "    plt.scatter(centroids[:, x_idx], centroids[:, y_idx],\n",
    "                marker='x', s=180, linewidths=3,\n",
    "                color='k', zorder=10)\n",
    "\n",
    "    plt.xlabel(x_name)\n",
    "    plt.ylabel(y_name)\n",
    "    plt.legend()\n",
    "    plt.show()\n",
    "    plt.close()"
   ]
  },
  {
   "cell_type": "markdown",
   "metadata": {},
   "source": [
    "Set up some markers and colors."
   ]
  },
  {
   "cell_type": "code",
   "execution_count": 129,
   "metadata": {
    "collapsed": true
   },
   "outputs": [],
   "source": [
    "markers = ('s', 'o', 'v', '*', 'D', '+', 'p', '<', '>', 'x')\n",
    "colors = ('C0', 'C1', 'C2', 'C3', 'C4', 'C5', 'C6', 'C7', 'C8', 'C9')"
   ]
  },
  {
   "cell_type": "markdown",
   "metadata": {},
   "source": [
    "Try K Means with k = 3 (Mainly because when I previously studied this using R, 3 produced interesting results).  The value for 'k' will be set from a distortion graph later in the notebook."
   ]
  },
  {
   "cell_type": "code",
   "execution_count": 130,
   "metadata": {
    "collapsed": false
   },
   "outputs": [
    {
     "name": "stdout",
     "output_type": "stream",
     "text": [
      "Cluster 1 has 296 members\n",
      "Cluster 2 has 131 members\n",
      "Cluster 3 has 13 members\n"
     ]
    }
   ],
   "source": [
    "k=3\n",
    "kmeans = KMeans(n_clusters=k)\n",
    "kmeans.fit(X)\n",
    "pred = kmeans.predict(X)\n",
    "\n",
    "for i in range(0, k):\n",
    "    x = len(pred[pred == i])\n",
    "    print 'Cluster %d has %d members' % ((i + 1), x)"
   ]
  },
  {
   "cell_type": "markdown",
   "metadata": {},
   "source": [
    "Use an inverse transform on the centroids.  Needed because the centroids were calculated on the scaled data and we would like the centroids to plot correctly with the original data."
   ]
  },
  {
   "cell_type": "code",
   "execution_count": 131,
   "metadata": {
    "collapsed": true
   },
   "outputs": [],
   "source": [
    "centroids = sc.inverse_transform(kmeans.cluster_centers_)"
   ]
  },
  {
   "cell_type": "code",
   "execution_count": 132,
   "metadata": {
    "collapsed": false
   },
   "outputs": [
    {
     "data": {
      "image/png": "[encoded data removed]",
      "text/plain": [
       "<matplotlib.figure.Figure at 0xdc90ac8>"
      ]
     },
     "metadata": {},
     "output_type": "display_data"
    }
   ],
   "source": [
    "plot_kmeans(pred, centroids, 'Frozen', 'Detergents_Paper', 3, 4, k)"
   ]
  },
  {
   "cell_type": "markdown",
   "metadata": {},
   "source": [
    "Commentary: The presence of a few large customers makes plot with more clusters hard to interpret because the mass of smaller customers is pushed into the lower right corner of the graph above.  Though large customer behavior is interesting, especially in a business setting, here I will focus on smaller customers.  A look at the histogram above appears to make a total sales level of 75,000 euros a reasonable break point.  As an aside, when I tried this in R, the K Means algorithm tended to produce two large customer clusters and one for the great mass of smaller customers.  The plot above was chosen because it is representative of a pattern in the data - namely that there are customers who buy one type of product from our wholesale client but do not buy other types of products.  Keeping this Jupyter notebook to a reasonable size precludes showing all possible combinations of product pairs as graphs here.  "
   ]
  },
  {
   "cell_type": "markdown",
   "metadata": {},
   "source": [
    "Set up the data structures for the smaller customers.  We need to rescale the data because of the elimination of larger customers."
   ]
  },
  {
   "cell_type": "code",
   "execution_count": 133,
   "metadata": {
    "collapsed": true
   },
   "outputs": [],
   "source": [
    "df = df.loc[df['Total'] <= 75000]\n",
    "\n",
    "sc = StandardScaler()\n",
    "sc.fit(df)\n",
    "X = sc.transform(df)"
   ]
  },
  {
   "cell_type": "markdown",
   "metadata": {},
   "source": [
    "Plot a distortion or elbow graph to help chose an optimal value for k."
   ]
  },
  {
   "cell_type": "code",
   "execution_count": 134,
   "metadata": {
    "collapsed": false
   },
   "outputs": [
    {
     "data": {
      "image/png": "[encoded data removed]",
      "text/plain": [
       "<matplotlib.figure.Figure at 0xe300be0>"
      ]
     },
     "metadata": {},
     "output_type": "display_data"
    }
   ],
   "source": [
    "K = range(1, 20)\n",
    "mean_distortions = []\n",
    "for k in K:\n",
    "    np.random.seed(555)\n",
    "    kmeans = KMeans(n_clusters=k, init='k-means++')\n",
    "    kmeans.fit(X)\n",
    "    mean_distortions.append(sum(np.min(cdist(X, kmeans.cluster_centers_, 'euclidean'), axis = 1))/ X.shape[0])\n",
    "\n",
    "plt.plot(K, mean_distortions, 'bx-')\n",
    "plt.xlabel('k')\n",
    "plt.ylabel('Average distortion')\n",
    "plt.title('Selecting K w/ Elbow Method')\n",
    "plt.show()\n",
    "plt.close()"
   ]
  },
  {
   "cell_type": "markdown",
   "metadata": {},
   "source": [
    "Distortion plots often have elbow points that are difficult to interpret, but k = 6 looks like it might make for an interesting set of clusters and plots."
   ]
  },
  {
   "cell_type": "code",
   "execution_count": 135,
   "metadata": {
    "collapsed": false
   },
   "outputs": [
    {
     "name": "stdout",
     "output_type": "stream",
     "text": [
      "Cluster 1 has 60 members\n",
      "Cluster 2 has 153 members\n",
      "Cluster 3 has 39 members\n",
      "Cluster 4 has 53 members\n",
      "Cluster 5 has 78 members\n",
      "Cluster 6 has 37 members\n"
     ]
    }
   ],
   "source": [
    "np.random.seed(555)  # sets seed, makes it repeatable\n",
    "k = 6\n",
    "kmeans = KMeans(n_clusters=k)  # , init='random')\n",
    "kmeans.fit(X)\n",
    "pred = kmeans.predict(X)\n",
    "\n",
    "for i in range(0, k):\n",
    "    x = len(pred[pred == i])\n",
    "    print 'Cluster %d has %d members' % ((i + 1), x)"
   ]
  },
  {
   "cell_type": "markdown",
   "metadata": {},
   "source": [
    "Plot K Means result with centroids."
   ]
  },
  {
   "cell_type": "code",
   "execution_count": 136,
   "metadata": {
    "collapsed": false
   },
   "outputs": [
    {
     "data": {
      "image/png": "[encoded data removed]",
      "text/plain": [
       "<matplotlib.figure.Figure at 0xdaaafd0>"
      ]
     },
     "metadata": {},
     "output_type": "display_data"
    }
   ],
   "source": [
    "centroids = sc.inverse_transform(kmeans.cluster_centers_)\n",
    "plot_kmeans(pred, centroids, 'Frozen', 'Detergents_Paper', 3, 4, k)"
   ]
  },
  {
   "cell_type": "markdown",
   "metadata": {},
   "source": [
    "The pattern seen in the full data set also shows up amongst the set of customers with less than 75,000 euros in total sales. There are, for example, a number of customers who buy detergents and paper from our client but not frozen goods, the inverse also appears to be true.  A business domain expert could be consulted in order to try and determine if this is charasteristic of the needs of these customers or perhaps there are missed opportunities for our client's marketing department."
   ]
  },
  {
   "cell_type": "markdown",
   "metadata": {},
   "source": [
    "The pattern noted is especially apparent in clusters 1, 3 and 5; lets see what we can learn about these clusters."
   ]
  },
  {
   "cell_type": "markdown",
   "metadata": {},
   "source": [
    "A function to print cluster data."
   ]
  },
  {
   "cell_type": "code",
   "execution_count": 137,
   "metadata": {
    "collapsed": true
   },
   "outputs": [],
   "source": [
    "def print_cluster_data(cluster_number):\n",
    "    print '\\nData for cluster %d' % cluster_number\n",
    "    cluster = df.loc[pred == cluster_number - 1, :]\n",
    "    # print cluster1.head()\n",
    "    num_in_cluster = float(len(cluster.index))\n",
    "    num_horeca = float(np.sum(cluster['Channel_Horeca']))\n",
    "    num_retail = float(num_in_cluster - num_horeca)\n",
    "    print 'Percent Horeca: %.2f, Percent Retail: %.2f' % \\\n",
    "          (num_horeca / num_in_cluster * 100.0, num_retail / num_in_cluster * 100.0)\n",
    "\n",
    "    num_lisbon = float(np.sum(cluster['Region_Lisbon']))\n",
    "    num_oporto = float(np.sum(cluster['Region_Oporto']))\n",
    "    num_other = num_in_cluster - num_lisbon - num_oporto\n",
    "    print 'Percent Lisbon: %.2f, Percent Oporto: %.2f, Percent Other: %.2f' % \\\n",
    "          (num_lisbon / num_in_cluster * 100.0, num_oporto / num_in_cluster * 100.0, num_other / num_in_cluster * 100.0)\n",
    "\n",
    "    avg_cust_size = np.sum(cluster['Total']) / num_in_cluster\n",
    "    print 'Average Customer Size is: %.2f for %d Customers' % (avg_cust_size, num_in_cluster)"
   ]
  },
  {
   "cell_type": "markdown",
   "metadata": {},
   "source": [
    "Print out data for clusters 1, 3 and 5."
   ]
  },
  {
   "cell_type": "code",
   "execution_count": 138,
   "metadata": {
    "collapsed": false
   },
   "outputs": [
    {
     "name": "stdout",
     "output_type": "stream",
     "text": [
      "\n",
      "Data for cluster 1\n",
      "Percent Horeca: 93.33, Percent Retail: 6.67\n",
      "Percent Lisbon: 11.67, Percent Oporto: 0.00, Percent Other: 88.33\n",
      "Average Customer Size is: 47384.95 for 60 Customers\n",
      "\n",
      "Data for cluster 3\n",
      "Percent Horeca: 7.69, Percent Retail: 92.31\n",
      "Percent Lisbon: 23.08, Percent Oporto: 20.51, Percent Other: 56.41\n",
      "Average Customer Size is: 52915.13 for 39 Customers\n",
      "\n",
      "Data for cluster 5\n",
      "Percent Horeca: 3.85, Percent Retail: 96.15\n",
      "Percent Lisbon: 7.69, Percent Oporto: 0.00, Percent Other: 92.31\n",
      "Average Customer Size is: 33858.73 for 78 Customers\n"
     ]
    }
   ],
   "source": [
    "print_cluster_data(cluster_number=1)\n",
    "print_cluster_data(cluster_number=3)\n",
    "print_cluster_data(cluster_number=5)"
   ]
  },
  {
   "cell_type": "markdown",
   "metadata": {},
   "source": [
    "Commentary: clusters 3 and 5 are dominated by retail customers, in an actual business setting we might want to investigate why they buy lots of detergents and paper from our client but not much in the way of frozen goods.  Cluster 1 represents customers from the \"Horeca\" (hotel, restaurant, cafe) distribution channel.  These customers tend to buy frozen goods but not detergents and paper, perhaps because they sell food and only use detergents and paper as maintenance supplies.  Clustering can help in a marketing segmentation analysis by identifying types and groups of customers.  "
   ]
  },
  {
   "cell_type": "markdown",
   "metadata": {},
   "source": [
    "I hope that you have enjoyed my example of using Python and K Means to identify some of the patterns in the UCI Wholesale Customers data set."
   ]
  }
 ],
 "metadata": {
  "kernelspec": {
   "display_name": "Python 2",
   "language": "python",
   "name": "python2"
  },
  "language_info": {
   "codemirror_mode": {
    "name": "ipython",
    "version": 2
   },
   "file_extension": ".py",
   "mimetype": "text/x-python",
   "name": "python",
   "nbconvert_exporter": "python",
   "pygments_lexer": "ipython2",
   "version": "2.7.13"
  }
 },
 "nbformat": 4,
 "nbformat_minor": 2
}

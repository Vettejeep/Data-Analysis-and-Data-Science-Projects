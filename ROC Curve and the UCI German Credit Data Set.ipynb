{
 "cells": [
  {
   "cell_type": "markdown",
   "metadata": {},
   "source": [
    "# ROC Curve and the UCI German Credit Data Set.\n",
    "### Kevin Maher\n",
    "### <span style=\"color:blue\">Vettejeep365@gmail.com</span>"
   ]
  },
  {
   "cell_type": "markdown",
   "metadata": {},
   "source": [
    "This is a classification problem. The goal is to predict which loans will be good and which ones will default.  It tends to be difficult to obtain high accuracy, especially since  the problem of predicting loans as good which later default is considered to be a more serious error.  When we did this with tree based models in a graduate course at Regis where we were studying tree-based models, all of us in the class had accuracy issues with this data set.  Here I have used logistic regression.  This has the advantage of reducing the number of failed predictions on predicted good loans.  The class weight parameter of the logistic regression model can be tuned to reduce the number of failed loans from those predicted as good loans; though at the cost of predicting more failed loans that turn out to not default."
   ]
  },
  {
   "cell_type": "markdown",
   "metadata": {},
   "source": [
    "Mostly I chose this data set and model because it offers the opportunity to show a Receiver Operator Characteristic (ROC) curve for a model that is only a moderately good predictor.  The ROC curve is a plot of the true positive rate against the false positive rate and the greater the area under the curve the more accurate the predictive model is."
   ]
  },
  {
   "cell_type": "markdown",
   "metadata": {},
   "source": [
    "Imports needed for the script. Uses Python 2.7.13, numpy 1.11.3, pandas 0.19.2, sklearn 0.18.1, matplotlib 2.0.0."
   ]
  },
  {
   "cell_type": "code",
   "execution_count": 17,
   "metadata": {
    "collapsed": true
   },
   "outputs": [],
   "source": [
    "%matplotlib inline\n",
    "\n",
    "import pandas as pd\n",
    "import numpy as np\n",
    "import itertools\n",
    "\n",
    "from sklearn.model_selection import train_test_split\n",
    "from sklearn.linear_model import LogisticRegression\n",
    "from sklearn import metrics\n",
    "from sklearn.preprocessing import label_binarize\n",
    "from sklearn.metrics import roc_curve, auc\n",
    "\n",
    "import matplotlib.pyplot as plt"
   ]
  },
  {
   "cell_type": "markdown",
   "metadata": {},
   "source": [
    "Import the data.  The data file is from:"
   ]
  },
  {
   "cell_type": "markdown",
   "metadata": {},
   "source": [
    "https://archive.ics.uci.edu/ml/datasets/Statlog+%28German+Credit+Data%29"
   ]
  },
  {
   "cell_type": "code",
   "execution_count": 18,
   "metadata": {
    "collapsed": false
   },
   "outputs": [
    {
     "name": "stdout",
     "output_type": "stream",
     "text": [
      "  CkgAcct  Duration CreditHistory Purpose  CreditAmt Savings EmploymentTime  \\\n",
      "0     A11         6           A34     A43       1169     A65            A75   \n",
      "1     A12        48           A32     A43       5951     A61            A73   \n",
      "2     A14        12           A34     A46       2096     A61            A74   \n",
      "3     A11        42           A32     A42       7882     A61            A74   \n",
      "4     A11        24           A33     A40       4870     A61            A73   \n",
      "\n",
      "   PctIncome PersStatus OtherDebts   ...     Property AgeYrs  OtherLoan  \\\n",
      "0          4        A93       A101   ...         A121     67       A143   \n",
      "1          2        A92       A101   ...         A121     22       A143   \n",
      "2          2        A93       A101   ...         A121     49       A143   \n",
      "3          2        A93       A103   ...         A122     45       A143   \n",
      "4          3        A93       A101   ...         A124     53       A143   \n",
      "\n",
      "  Housing NumCredits   Job FamSize  Telephone Foriegn LoanGood  \n",
      "0    A152          2  A173       1       A192    A201        1  \n",
      "1    A152          1  A173       1       A191    A201        2  \n",
      "2    A152          1  A172       2       A191    A201        1  \n",
      "3    A153          1  A173       2       A191    A201        1  \n",
      "4    A153          2  A173       2       A191    A201        2  \n",
      "\n",
      "[5 rows x 21 columns]\n"
     ]
    }
   ],
   "source": [
    "column_names = ['CkgAcct', 'Duration', 'CreditHistory', 'Purpose', 'CreditAmt', 'Savings', 'EmploymentTime',\n",
    "               'PctIncome', 'PersStatus', 'OtherDebts', 'ResidenceSince', 'Property',\n",
    "               'AgeYrs', 'OtherLoan', 'Housing', 'NumCredits', 'Job', 'FamSize', 'Telephone',\n",
    "               'Foriegn', 'LoanGood']\n",
    "\n",
    "df = pd.read_table('german.data.txt', names=column_names, sep=' ')\n",
    "print df.head()"
   ]
  },
  {
   "cell_type": "markdown",
   "metadata": {},
   "source": [
    "Make binary factors into 1/0."
   ]
  },
  {
   "cell_type": "code",
   "execution_count": 19,
   "metadata": {
    "collapsed": true
   },
   "outputs": [],
   "source": [
    "df['Foriegn'] = df['Foriegn'].eq('A202').mul(1)\n",
    "df['Telephone'] = df['Telephone'].eq('A192').mul(1)"
   ]
  },
  {
   "cell_type": "markdown",
   "metadata": {},
   "source": [
    "For multi-level features, make a function to convert to dummy variables."
   ]
  },
  {
   "cell_type": "code",
   "execution_count": 20,
   "metadata": {
    "collapsed": true
   },
   "outputs": [],
   "source": [
    "def get_dummies(source_df, dest_df, col):\n",
    "    dummies = pd.get_dummies(source_df[col], prefix=col)\n",
    "\n",
    "    print 'Quantities for %s column' % col\n",
    "    for col in dummies:\n",
    "        print '%s: %d' % (col, np.sum(dummies[col]))\n",
    "    print\n",
    "\n",
    "    dest_df = dest_df.join(dummies)\n",
    "    return dest_df"
   ]
  },
  {
   "cell_type": "markdown",
   "metadata": {},
   "source": [
    "Convert multi-level features to dummy variables, print the quantities for each level. Drop the original features since they have been converted."
   ]
  },
  {
   "cell_type": "code",
   "execution_count": 21,
   "metadata": {
    "collapsed": false
   },
   "outputs": [
    {
     "name": "stdout",
     "output_type": "stream",
     "text": [
      "Quantities for CkgAcct column\n",
      "CkgAcct_A11: 274\n",
      "CkgAcct_A12: 269\n",
      "CkgAcct_A13: 63\n",
      "CkgAcct_A14: 394\n",
      "\n",
      "Quantities for CreditHistory column\n",
      "CreditHistory_A30: 40\n",
      "CreditHistory_A31: 49\n",
      "CreditHistory_A32: 530\n",
      "CreditHistory_A33: 88\n",
      "CreditHistory_A34: 293\n",
      "\n",
      "Quantities for Purpose column\n",
      "Purpose_A40: 234\n",
      "Purpose_A41: 103\n",
      "Purpose_A410: 12\n",
      "Purpose_A42: 181\n",
      "Purpose_A43: 280\n",
      "Purpose_A44: 12\n",
      "Purpose_A45: 22\n",
      "Purpose_A46: 50\n",
      "Purpose_A48: 9\n",
      "Purpose_A49: 97\n",
      "\n",
      "Quantities for Savings column\n",
      "Savings_A61: 603\n",
      "Savings_A62: 103\n",
      "Savings_A63: 63\n",
      "Savings_A64: 48\n",
      "Savings_A65: 183\n",
      "\n",
      "Quantities for EmploymentTime column\n",
      "EmploymentTime_A71: 62\n",
      "EmploymentTime_A72: 172\n",
      "EmploymentTime_A73: 339\n",
      "EmploymentTime_A74: 174\n",
      "EmploymentTime_A75: 253\n",
      "\n",
      "Quantities for PersStatus column\n",
      "PersStatus_A91: 50\n",
      "PersStatus_A92: 310\n",
      "PersStatus_A93: 548\n",
      "PersStatus_A94: 92\n",
      "\n",
      "Quantities for OtherDebts column\n",
      "OtherDebts_A101: 907\n",
      "OtherDebts_A102: 41\n",
      "OtherDebts_A103: 52\n",
      "\n",
      "Quantities for Property column\n",
      "Property_A121: 282\n",
      "Property_A122: 232\n",
      "Property_A123: 332\n",
      "Property_A124: 154\n",
      "\n",
      "Quantities for OtherLoan column\n",
      "OtherLoan_A141: 139\n",
      "OtherLoan_A142: 47\n",
      "OtherLoan_A143: 814\n",
      "\n",
      "Quantities for Housing column\n",
      "Housing_A151: 179\n",
      "Housing_A152: 713\n",
      "Housing_A153: 108\n",
      "\n",
      "Quantities for Job column\n",
      "Job_A171: 22\n",
      "Job_A172: 200\n",
      "Job_A173: 630\n",
      "Job_A174: 148\n",
      "\n"
     ]
    }
   ],
   "source": [
    "ohe_features = ['CkgAcct', 'CreditHistory', 'Purpose', 'Savings', 'EmploymentTime',\n",
    "                'PersStatus', 'OtherDebts', 'Property', 'OtherLoan', 'Housing', 'Job']\n",
    "\n",
    "for feature in ohe_features:\n",
    "    df = get_dummies(df, df, feature)\n",
    "\n",
    "df.drop(ohe_features, axis=1, inplace=True)"
   ]
  },
  {
   "cell_type": "markdown",
   "metadata": {},
   "source": [
    "\"Leave one out\", n-1 dummy variables fully describe the categorical feature."
   ]
  },
  {
   "cell_type": "code",
   "execution_count": 22,
   "metadata": {
    "collapsed": true
   },
   "outputs": [],
   "source": [
    "drop_dummies = ['CkgAcct_A14', 'CreditHistory_A32', 'Purpose_A43', 'Savings_A61', 'EmploymentTime_A73',\n",
    "                'PersStatus_A93', 'OtherDebts_A101', 'Property_A123', 'OtherLoan_A143', 'Housing_A152',\n",
    "                'Job_A173']\n",
    "df.drop(drop_dummies, axis=1, inplace=True)"
   ]
  },
  {
   "cell_type": "markdown",
   "metadata": {},
   "source": [
    "Set up for machine learning. 'X' is the data and 'y' is the true classifications from the data set. X_train and y_train are for model training, X_test and y_test are for model testing - proving the model on data unseen during training."
   ]
  },
  {
   "cell_type": "code",
   "execution_count": 23,
   "metadata": {
    "collapsed": true
   },
   "outputs": [],
   "source": [
    "y = df['LoanGood']\n",
    "X = df.drop('LoanGood', axis=1)\n",
    "X_train, X_test, y_train, y_test = train_test_split(X, y, test_size=0.3, random_state=245)"
   ]
  },
  {
   "cell_type": "markdown",
   "metadata": {},
   "source": [
    "Set up the logistic regression.  High accuracy is hard to obtain with this data set.  I tended to get the best balance of accuracy and prediction for predicted good loans not defaulting by setting the class weight for the default class to 2.0.  Higher values for the class weight reduce the number of defaults in predicted good loans but increase the number of predicted bad loans that are good and decrease overall model accuracy."
   ]
  },
  {
   "cell_type": "code",
   "execution_count": 24,
   "metadata": {
    "collapsed": false
   },
   "outputs": [
    {
     "name": "stdout",
     "output_type": "stream",
     "text": [
      "Model: 75.67% accurate\n"
     ]
    }
   ],
   "source": [
    "clf = LogisticRegression(C=1.0, class_weight={1: 1.0, 2: 2.0})\n",
    "clf.fit(X_train, y_train)\n",
    "pred = clf.predict(X_test)\n",
    "\n",
    "print 'Model: %.2f%% accurate' % (metrics.accuracy_score(y_test, pred) * 100.0)"
   ]
  },
  {
   "cell_type": "markdown",
   "metadata": {},
   "source": [
    "Create a function to plot the confusion matrix.  Code from:"
   ]
  },
  {
   "cell_type": "markdown",
   "metadata": {},
   "source": [
    "http://scikit-learn.org/stable/auto_examples/model_selection/plot_confusion_matrix.html#sphx-glr-auto-examples-model-selection-plot-confusion-matrix-py"
   ]
  },
  {
   "cell_type": "code",
   "execution_count": 25,
   "metadata": {
    "collapsed": true
   },
   "outputs": [],
   "source": [
    "def plot_confusion_matrix(cm, classes,\n",
    "                          normalize=False,\n",
    "                          title='Confusion matrix',\n",
    "                          cmap=plt.cm.Blues):\n",
    "    \"\"\"\n",
    "    This function prints and plots the confusion matrix.\n",
    "    Normalization can be applied by setting `normalize=True`.\n",
    "    \"\"\"\n",
    "    plt.imshow(cm, interpolation='nearest', cmap=cmap)\n",
    "    plt.title(title)\n",
    "    plt.colorbar()\n",
    "    tick_marks = np.arange(len(classes))\n",
    "    plt.xticks(tick_marks, classes, rotation=45)\n",
    "    plt.yticks(tick_marks, classes)\n",
    "\n",
    "    if normalize:\n",
    "        cm = cm.astype('float') / cm.sum(axis=1)[:, np.newaxis]\n",
    "        print(\"Normalized confusion matrix\")\n",
    "    else:\n",
    "        print('Confusion matrix, without normalization')\n",
    "\n",
    "    print(cm)\n",
    "\n",
    "    thresh = cm.max() / 2.\n",
    "    for i, j in itertools.product(range(cm.shape[0]), range(cm.shape[1])):\n",
    "        plt.text(j, i, cm[i, j],\n",
    "                 horizontalalignment=\"center\",\n",
    "                 color=\"white\" if cm[i, j] > thresh else \"black\")\n",
    "\n",
    "    plt.tight_layout()\n",
    "    plt.ylabel('True label')\n",
    "    plt.xlabel('Predicted label')\n",
    "\n",
    "    plt.show()\n",
    "    plt.close()"
   ]
  },
  {
   "cell_type": "markdown",
   "metadata": {},
   "source": [
    "Plot the confusion matrix."
   ]
  },
  {
   "cell_type": "code",
   "execution_count": 26,
   "metadata": {
    "collapsed": false
   },
   "outputs": [
    {
     "name": "stdout",
     "output_type": "stream",
     "text": [
      "Confusion matrix, without normalization\n",
      "[[164  44]\n",
      " [ 29  63]]\n"
     ]
    },
    {
     "data": {
      "image/png": "[encoded data removed]",
      "text/plain": [
       "<matplotlib.figure.Figure at 0xc8224e0>"
      ]
     },
     "metadata": {},
     "output_type": "display_data"
    }
   ],
   "source": [
    "confusion = metrics.confusion_matrix(y_test, pred)\n",
    "class_names = ['Loan Good', 'Loan Default']\n",
    "plot_confusion_matrix(confusion, classes=class_names, title='Confusion matrix')"
   ]
  },
  {
   "cell_type": "markdown",
   "metadata": {},
   "source": [
    "Get the probabilities so that the ROC curve can be plotted.  Also, expand the true value matrix so its size matches the probabilities matrix.  the SKLearn function label binarize needs to be fooled into expanding by adding a dummy class, since for binary problems like this one it produces a matrix with one column.  So, a dummy column is added then sliced off.  See the Scikit Learn documentation for \"label_binarize\"."
   ]
  },
  {
   "cell_type": "code",
   "execution_count": 27,
   "metadata": {
    "collapsed": true
   },
   "outputs": [],
   "source": [
    "pred_proba = clf.predict_proba(X_test)\n",
    "y_test_expanded = label_binarize(y_test, classes=[1, 2, 3])[:, 0:2]"
   ]
  },
  {
   "cell_type": "markdown",
   "metadata": {},
   "source": [
    "Compute ROC curve parameters. ROC code from:"
   ]
  },
  {
   "cell_type": "markdown",
   "metadata": {},
   "source": [
    "http://scikit-learn.org/stable/auto_examples/model_selection/plot_roc.html#sphx-glr-auto-examples-model-selection-plot-roc-py"
   ]
  },
  {
   "cell_type": "code",
   "execution_count": 28,
   "metadata": {
    "collapsed": true
   },
   "outputs": [],
   "source": [
    "n_classes = 2\n",
    "fpr = dict()\n",
    "tpr = dict()\n",
    "roc_auc = dict()\n",
    "for i in range(n_classes):\n",
    "    fpr[i], tpr[i], _ = roc_curve(y_test_expanded[:, i], pred_proba[:, i])\n",
    "    roc_auc[i] = auc(fpr[i], tpr[i])\n",
    "\n",
    "# Compute micro-average ROC curve and ROC area\n",
    "fpr[\"micro\"], tpr[\"micro\"], _ = roc_curve(y_test_expanded.ravel(), pred_proba.ravel())\n",
    "roc_auc[\"micro\"] = auc(fpr[\"micro\"], tpr[\"micro\"])"
   ]
  },
  {
   "cell_type": "markdown",
   "metadata": {},
   "source": [
    "Plot the ROC curve.  The area under the curve is not bad at 0.815, but a bank would probably want much better predictions of loans that will eventually default.  The data in this data set is likely to be inadequate for that, and either more data, or more data features are needed. "
   ]
  },
  {
   "cell_type": "code",
   "execution_count": 30,
   "metadata": {
    "collapsed": false
   },
   "outputs": [
    {
     "data": {
      "image/png": "[encoded data removed]",
      "text/plain": [
       "<matplotlib.figure.Figure at 0xc7b1748>"
      ]
     },
     "metadata": {},
     "output_type": "display_data"
    }
   ],
   "source": [
    "plt.figure()\n",
    "lw = 2\n",
    "plt.plot(fpr[0], tpr[0], color='darkorange',\n",
    "         lw=lw, label='ROC curve (area = %0.3f)' % roc_auc[0])\n",
    "plt.plot([0, 1], [0, 1], color='navy', lw=lw, linestyle='--')\n",
    "plt.xlim([0.0, 1.0])\n",
    "plt.ylim([0.0, 1.05])\n",
    "plt.xlabel('False Positive Rate')\n",
    "plt.ylabel('True Positive Rate')\n",
    "plt.title('Receiver operating characteristic example')\n",
    "plt.legend(loc=\"lower right\")\n",
    "plt.show()"
   ]
  },
  {
   "cell_type": "markdown",
   "metadata": {},
   "source": [
    "Citation: Statlog (German Credit Data) Data Set (1994). UCI Machine Learning Repository. Retrieved from:  "
   ]
  },
  {
   "cell_type": "markdown",
   "metadata": {},
   "source": [
    "https://archive.ics.uci.edu/ml/datasets/Statlog+%28German+Credit+Data%29"
   ]
  }
 ],
 "metadata": {
  "kernelspec": {
   "display_name": "Python 2",
   "language": "python",
   "name": "python2"
  },
  "language_info": {
   "codemirror_mode": {
    "name": "ipython",
    "version": 2
   },
   "file_extension": ".py",
   "mimetype": "text/x-python",
   "name": "python",
   "nbconvert_exporter": "python",
   "pygments_lexer": "ipython2",
   "version": "2.7.13"
  }
 },
 "nbformat": 4,
 "nbformat_minor": 2
}

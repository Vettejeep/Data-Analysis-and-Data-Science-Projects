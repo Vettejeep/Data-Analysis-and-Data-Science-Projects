{
 "cells": [
  {
   "cell_type": "markdown",
   "metadata": {},
   "source": [
    "# Support Vector Machines and the UCI Mushroom Data Set\n",
    "### Kevin Maher\n",
    "### <span style=\"color:blue\">Vettejeep365@gmail.com</span>"
   ]
  },
  {
   "cell_type": "markdown",
   "metadata": {},
   "source": [
    "This is a classification problem, we want to correctly classify mushrooms as edible or poisonous.  We especially do not want to classify poisonous mushrooms as edible."
   ]
  },
  {
   "cell_type": "markdown",
   "metadata": {},
   "source": [
    "Imports needed for the script.  Uses Python 2.7.13, numpy 1.11.3, pandas 0.19.2, sklearn 0.18.1, matplotlib 2.0.0."
   ]
  },
  {
   "cell_type": "code",
   "execution_count": 40,
   "metadata": {
    "collapsed": true
   },
   "outputs": [],
   "source": [
    "%matplotlib inline\n",
    "\n",
    "import pandas as pd\n",
    "import numpy as np\n",
    "import itertools\n",
    "\n",
    "from sklearn.svm import SVC\n",
    "from sklearn.model_selection import train_test_split\n",
    "from sklearn import metrics\n",
    "\n",
    "import matplotlib.pyplot as plt"
   ]
  },
  {
   "cell_type": "markdown",
   "metadata": {},
   "source": [
    "Import the data.  Even though the UCI file has a 'txt' extension it is formatted as a 'csv' file.  File header names are not provided in the UCI data file but are available from the UCI website (https://archive.ics.uci.edu/ml/datasets/mushroom). "
   ]
  },
  {
   "cell_type": "code",
   "execution_count": 41,
   "metadata": {
    "collapsed": false
   },
   "outputs": [
    {
     "name": "stdout",
     "output_type": "stream",
     "text": [
      "  class cap_shape cap_surface cap_color bruises odor gill_attachment  \\\n",
      "0     p         x           s         n       t    p               f   \n",
      "1     e         x           s         y       t    a               f   \n",
      "2     e         b           s         w       t    l               f   \n",
      "3     p         x           y         w       t    p               f   \n",
      "4     e         x           s         g       f    n               f   \n",
      "\n",
      "  gill_spacing gill_size gill_color   ...   stalk_surface_below_ring  \\\n",
      "0            c         n          k   ...                          s   \n",
      "1            c         b          k   ...                          s   \n",
      "2            c         b          n   ...                          s   \n",
      "3            c         n          n   ...                          s   \n",
      "4            w         b          k   ...                          s   \n",
      "\n",
      "  stalk_color_above_ring stalk_color_below_ring veil_type veil_color  \\\n",
      "0                      w                      w         p          w   \n",
      "1                      w                      w         p          w   \n",
      "2                      w                      w         p          w   \n",
      "3                      w                      w         p          w   \n",
      "4                      w                      w         p          w   \n",
      "\n",
      "  ring_number ring_type spore_print_color population habitat  \n",
      "0           o         p                 k          s       u  \n",
      "1           o         p                 n          n       g  \n",
      "2           o         p                 n          n       m  \n",
      "3           o         p                 k          s       u  \n",
      "4           o         e                 n          a       g  \n",
      "\n",
      "[5 rows x 23 columns]\n"
     ]
    }
   ],
   "source": [
    "columns = ('class', 'cap_shape', 'cap_surface', 'cap_color', 'bruises', 'odor',\n",
    "               'gill_attachment', 'gill_spacing', 'gill_size', 'gill_color',\n",
    "               'stalk_shape', 'stalk_root', 'stalk_surface_above_ring',\n",
    "               'stalk_surface_below_ring', 'stalk_color_above_ring',\n",
    "               'stalk_color_below_ring', 'veil_type', 'veil_color',\n",
    "               'ring_number', 'ring_type', 'spore_print_color',\n",
    "               'population', 'habitat')\n",
    "\n",
    "df = pd.read_csv('agaricus-lepiota.data.txt', names=columns)\n",
    "print df.head()"
   ]
  },
  {
   "cell_type": "markdown",
   "metadata": {},
   "source": [
    "Deal with problematic data.  Stalk root has missing values, I will encode these as 'u' for unknown.  Veil type has only one level so it is not useful."
   ]
  },
  {
   "cell_type": "code",
   "execution_count": 42,
   "metadata": {
    "collapsed": true
   },
   "outputs": [],
   "source": [
    "df.loc[df['stalk_root'] == '?', 'stalk_root'] = 'u'\n",
    "df.drop('veil_type', axis=1, inplace=True)"
   ]
  },
  {
   "cell_type": "markdown",
   "metadata": {},
   "source": [
    "Make naturally binary factors into 1/0 since the Support Vector Machine needs numbers."
   ]
  },
  {
   "cell_type": "code",
   "execution_count": 43,
   "metadata": {
    "collapsed": true
   },
   "outputs": [],
   "source": [
    "df['bruises'] = df['bruises'].eq('f').mul(1)\n",
    "df['gill_attachment'] = df['gill_attachment'].eq('a').mul(1)\n",
    "df['gill_spacing'] = df['gill_spacing'].eq('c').mul(1)\n",
    "df['gill_size'] = df['gill_size'].eq('b').mul(1)\n",
    "df['stalk_shape'] = df['stalk_shape'].eq('e').mul(1)"
   ]
  },
  {
   "cell_type": "markdown",
   "metadata": {},
   "source": [
    "For multi-level features, make a function to convert to dummy variables."
   ]
  },
  {
   "cell_type": "code",
   "execution_count": 44,
   "metadata": {
    "collapsed": true
   },
   "outputs": [],
   "source": [
    "def get_dummies(source_df, dest_df, col):\n",
    "    dummies = pd.get_dummies(source_df[col], prefix=col)\n",
    "\n",
    "    print 'Quantities for %s column' % col\n",
    "    for col in dummies:\n",
    "        print '%s: %d' % (col, np.sum(dummies[col]))\n",
    "    print\n",
    "\n",
    "    dest_df = dest_df.join(dummies)\n",
    "    return dest_df"
   ]
  },
  {
   "cell_type": "markdown",
   "metadata": {},
   "source": [
    "Convert multi-level features to dummy variables, print the quantities for each level.  Drop the original features since they have been converted."
   ]
  },
  {
   "cell_type": "code",
   "execution_count": 45,
   "metadata": {
    "collapsed": false
   },
   "outputs": [
    {
     "name": "stdout",
     "output_type": "stream",
     "text": [
      "Quantities for cap_shape column\n",
      "cap_shape_b: 452\n",
      "cap_shape_c: 4\n",
      "cap_shape_f: 3152\n",
      "cap_shape_k: 828\n",
      "cap_shape_s: 32\n",
      "cap_shape_x: 3656\n",
      "\n",
      "Quantities for cap_surface column\n",
      "cap_surface_f: 2320\n",
      "cap_surface_g: 4\n",
      "cap_surface_s: 2556\n",
      "cap_surface_y: 3244\n",
      "\n",
      "Quantities for cap_color column\n",
      "cap_color_b: 168\n",
      "cap_color_c: 44\n",
      "cap_color_e: 1500\n",
      "cap_color_g: 1840\n",
      "cap_color_n: 2284\n",
      "cap_color_p: 144\n",
      "cap_color_r: 16\n",
      "cap_color_u: 16\n",
      "cap_color_w: 1040\n",
      "cap_color_y: 1072\n",
      "\n",
      "Quantities for odor column\n",
      "odor_a: 400\n",
      "odor_c: 192\n",
      "odor_f: 2160\n",
      "odor_l: 400\n",
      "odor_m: 36\n",
      "odor_n: 3528\n",
      "odor_p: 256\n",
      "odor_s: 576\n",
      "odor_y: 576\n",
      "\n",
      "Quantities for gill_color column\n",
      "gill_color_b: 1728\n",
      "gill_color_e: 96\n",
      "gill_color_g: 752\n",
      "gill_color_h: 732\n",
      "gill_color_k: 408\n",
      "gill_color_n: 1048\n",
      "gill_color_o: 64\n",
      "gill_color_p: 1492\n",
      "gill_color_r: 24\n",
      "gill_color_u: 492\n",
      "gill_color_w: 1202\n",
      "gill_color_y: 86\n",
      "\n",
      "Quantities for stalk_root column\n",
      "stalk_root_b: 3776\n",
      "stalk_root_c: 556\n",
      "stalk_root_e: 1120\n",
      "stalk_root_r: 192\n",
      "stalk_root_u: 2480\n",
      "\n",
      "Quantities for stalk_surface_above_ring column\n",
      "stalk_surface_above_ring_f: 552\n",
      "stalk_surface_above_ring_k: 2372\n",
      "stalk_surface_above_ring_s: 5176\n",
      "stalk_surface_above_ring_y: 24\n",
      "\n",
      "Quantities for stalk_surface_below_ring column\n",
      "stalk_surface_below_ring_f: 600\n",
      "stalk_surface_below_ring_k: 2304\n",
      "stalk_surface_below_ring_s: 4936\n",
      "stalk_surface_below_ring_y: 284\n",
      "\n",
      "Quantities for stalk_color_above_ring column\n",
      "stalk_color_above_ring_b: 432\n",
      "stalk_color_above_ring_c: 36\n",
      "stalk_color_above_ring_e: 96\n",
      "stalk_color_above_ring_g: 576\n",
      "stalk_color_above_ring_n: 448\n",
      "stalk_color_above_ring_o: 192\n",
      "stalk_color_above_ring_p: 1872\n",
      "stalk_color_above_ring_w: 4464\n",
      "stalk_color_above_ring_y: 8\n",
      "\n",
      "Quantities for stalk_color_below_ring column\n",
      "stalk_color_below_ring_b: 432\n",
      "stalk_color_below_ring_c: 36\n",
      "stalk_color_below_ring_e: 96\n",
      "stalk_color_below_ring_g: 576\n",
      "stalk_color_below_ring_n: 512\n",
      "stalk_color_below_ring_o: 192\n",
      "stalk_color_below_ring_p: 1872\n",
      "stalk_color_below_ring_w: 4384\n",
      "stalk_color_below_ring_y: 24\n",
      "\n",
      "Quantities for veil_color column\n",
      "veil_color_n: 96\n",
      "veil_color_o: 96\n",
      "veil_color_w: 7924\n",
      "veil_color_y: 8\n",
      "\n",
      "Quantities for ring_number column\n",
      "ring_number_n: 36\n",
      "ring_number_o: 7488\n",
      "ring_number_t: 600\n",
      "\n",
      "Quantities for ring_type column\n",
      "ring_type_e: 2776\n",
      "ring_type_f: 48\n",
      "ring_type_l: 1296\n",
      "ring_type_n: 36\n",
      "ring_type_p: 3968\n",
      "\n",
      "Quantities for spore_print_color column\n",
      "spore_print_color_b: 48\n",
      "spore_print_color_h: 1632\n",
      "spore_print_color_k: 1872\n",
      "spore_print_color_n: 1968\n",
      "spore_print_color_o: 48\n",
      "spore_print_color_r: 72\n",
      "spore_print_color_u: 48\n",
      "spore_print_color_w: 2388\n",
      "spore_print_color_y: 48\n",
      "\n",
      "Quantities for population column\n",
      "population_a: 384\n",
      "population_c: 340\n",
      "population_n: 400\n",
      "population_s: 1248\n",
      "population_v: 4040\n",
      "population_y: 1712\n",
      "\n",
      "Quantities for habitat column\n",
      "habitat_d: 3148\n",
      "habitat_g: 2148\n",
      "habitat_l: 832\n",
      "habitat_m: 292\n",
      "habitat_p: 1144\n",
      "habitat_u: 368\n",
      "habitat_w: 192\n",
      "\n"
     ]
    }
   ],
   "source": [
    "ohe_features = ['cap_shape', 'cap_surface', 'cap_color', 'odor', 'gill_color',\n",
    "                'stalk_root', 'stalk_surface_above_ring',\n",
    "                'stalk_surface_below_ring', 'stalk_color_above_ring',\n",
    "                'stalk_color_below_ring', 'veil_color',\n",
    "                'ring_number', 'ring_type', 'spore_print_color',\n",
    "                'population', 'habitat']\n",
    "\n",
    "for feature in ohe_features:\n",
    "    df = get_dummies(df, df, feature)\n",
    "\n",
    "df.drop(ohe_features, axis=1, inplace=True)"
   ]
  },
  {
   "cell_type": "markdown",
   "metadata": {},
   "source": [
    "\"Leave one out\", n-1 dummy variables fully describe the categorical feature."
   ]
  },
  {
   "cell_type": "code",
   "execution_count": 46,
   "metadata": {
    "collapsed": true
   },
   "outputs": [],
   "source": [
    "drop_dummies = ['cap_shape_c', 'cap_surface_g', 'stalk_color_above_ring_y', 'veil_color_y',\n",
    "                'cap_color_r', 'odor_m', 'gill_color_r', 'stalk_root_r', 'stalk_surface_below_ring_y',\n",
    "                'stalk_color_below_ring_y', 'ring_number_n', 'ring_type_n', 'spore_print_color_y',\n",
    "                'population_a', 'habitat_w']\n",
    "df.drop(drop_dummies, axis=1, inplace=True)"
   ]
  },
  {
   "cell_type": "markdown",
   "metadata": {},
   "source": [
    "Set up for machine learning with the Support Vector Machine.  'X' is the data and 'y' is the true classifications from the data set.  X_train and y_train are for model training, X_test and y_test are for model testing - proving the model on data unseen during training."
   ]
  },
  {
   "cell_type": "code",
   "execution_count": 47,
   "metadata": {
    "collapsed": true
   },
   "outputs": [],
   "source": [
    "y = df['class']\n",
    "X = df.drop('class', axis=1)\n",
    "X_train, X_test, y_train, y_test = train_test_split(X, y, test_size=0.3, random_state=245)"
   ]
  },
  {
   "cell_type": "markdown",
   "metadata": {},
   "source": [
    "Try a basic Support Vector Machine classifier first."
   ]
  },
  {
   "cell_type": "code",
   "execution_count": 48,
   "metadata": {
    "collapsed": true
   },
   "outputs": [],
   "source": [
    "clf = SVC()\n",
    "clf.fit(X_train, y_train)\n",
    "pred = clf.predict(X_test)"
   ]
  },
  {
   "cell_type": "markdown",
   "metadata": {},
   "source": [
    "Results.  There seem to be some errors but the standard confusion matrix provided by Scikit Learn does not tell us the classes, it just prints a simple matrix.  We will need to investigate further."
   ]
  },
  {
   "cell_type": "code",
   "execution_count": 49,
   "metadata": {
    "collapsed": false
   },
   "outputs": [
    {
     "name": "stdout",
     "output_type": "stream",
     "text": [
      "SVC Model (C=1.0): 99.63% accurate\n",
      "[[1259    0]\n",
      " [   9 1170]]\n"
     ]
    }
   ],
   "source": [
    "print 'SVC Model (C=%.1f): %.2f%% accurate' % (1.0, (metrics.accuracy_score(y_test, pred) * 100.0))\n",
    "confusion = metrics.confusion_matrix(y_test, pred)\n",
    "print confusion"
   ]
  },
  {
   "cell_type": "markdown",
   "metadata": {},
   "source": [
    "What were the errors?  Unfortunately the code below shows that poisonous mushrooms were classified as edible - not a desirable outcome."
   ]
  },
  {
   "cell_type": "code",
   "execution_count": 50,
   "metadata": {
    "collapsed": false
   },
   "outputs": [
    {
     "name": "stdout",
     "output_type": "stream",
     "text": [
      "\n",
      "Errors:\n",
      "predicted: actual\n",
      "e: p\n",
      "e: p\n",
      "e: p\n",
      "e: p\n",
      "e: p\n",
      "e: p\n",
      "e: p\n",
      "e: p\n",
      "e: p\n"
     ]
    }
   ],
   "source": [
    "print '\\nErrors:'\n",
    "print 'predicted: actual'\n",
    "for p, act in zip(pred, y_test):\n",
    "    if p != act:\n",
    "        print '%s: %s' % (p, act)"
   ]
  },
  {
   "cell_type": "markdown",
   "metadata": {},
   "source": [
    "Define a function to plot the confusion matrix.  Taken from the Scikit Learn examples at: http://scikit-learn.org/stable/auto_examples/model_selection/plot_confusion_matrix.html#sphx-glr-auto-examples-model-selection-plot-confusion-matrix-py. "
   ]
  },
  {
   "cell_type": "code",
   "execution_count": 51,
   "metadata": {
    "collapsed": false
   },
   "outputs": [],
   "source": [
    "def plot_confusion_matrix(cm, classes,\n",
    "                          normalize=False,\n",
    "                          title='Confusion matrix',\n",
    "                          cmap=plt.cm.Blues):\n",
    "    \"\"\"\n",
    "    This function prints and plots the confusion matrix.\n",
    "    Normalization can be applied by setting `normalize=True`.\n",
    "    \"\"\"\n",
    "    plt.imshow(cm, interpolation='nearest', cmap=cmap)\n",
    "    plt.title(title)\n",
    "    plt.colorbar()\n",
    "    tick_marks = np.arange(len(classes))\n",
    "    plt.xticks(tick_marks, classes, rotation=45)\n",
    "    plt.yticks(tick_marks, classes)\n",
    "\n",
    "    if normalize:\n",
    "        cm = cm.astype('float') / cm.sum(axis=1)[:, np.newaxis]\n",
    "        print(\"Normalized confusion matrix\")\n",
    "    else:\n",
    "        print('Confusion matrix, without normalization')\n",
    "\n",
    "    print(cm)\n",
    "\n",
    "    thresh = cm.max() / 2.\n",
    "    for i, j in itertools.product(range(cm.shape[0]), range(cm.shape[1])):\n",
    "        plt.text(j, i, cm[i, j],\n",
    "                 horizontalalignment=\"center\",\n",
    "                 color=\"white\" if cm[i, j] > thresh else \"black\")\n",
    "\n",
    "    plt.tight_layout()\n",
    "    plt.ylabel('True label')\n",
    "    plt.xlabel('Predicted label')\n",
    "\n",
    "    plt.show()\n",
    "    plt.close()"
   ]
  },
  {
   "cell_type": "markdown",
   "metadata": {},
   "source": [
    "Plot the confusion matrix using the above function.  This shows a nice plot of the 9 poisonous mushrooms that were classified as edible.  We need to see if we can fix this since the model should not make anyone sick who relies on it."
   ]
  },
  {
   "cell_type": "code",
   "execution_count": 52,
   "metadata": {
    "collapsed": false
   },
   "outputs": [
    {
     "name": "stdout",
     "output_type": "stream",
     "text": [
      "Confusion matrix, without normalization\n",
      "[[1259    0]\n",
      " [   9 1170]]\n"
     ]
    },
    {
     "data": {
      "image/png": "[encoded data removed]",
      "text/plain": [
       "<matplotlib.figure.Figure at 0xc6c1d68>"
      ]
     },
     "metadata": {},
     "output_type": "display_data"
    }
   ],
   "source": [
    "class_names = ['e', 'p']\n",
    "plot_confusion_matrix(confusion, classes=class_names,\n",
    "                      title='Confusion matrix')"
   ]
  },
  {
   "cell_type": "markdown",
   "metadata": {},
   "source": [
    "Try different values for the cost function for errors (the 'C' error term).  Also try different test/train splits to check the robustness of the 'C' term value chosen.  With a high enough 'C', the model becomes 100% accurate."
   ]
  },
  {
   "cell_type": "code",
   "execution_count": 53,
   "metadata": {
    "collapsed": false
   },
   "outputs": [
    {
     "name": "stdout",
     "output_type": "stream",
     "text": [
      "\n",
      "seed=245\n",
      "SVC Model (C=1.0): 99.63% accurate\n",
      "SVC Model (C=2.5): 99.96% accurate\n",
      "SVC Model (C=5.0): 100.00% accurate\n",
      "SVC Model (C=10.0): 100.00% accurate\n",
      "SVC Model (C=15.0): 100.00% accurate\n",
      "SVC Model (C=20.0): 100.00% accurate\n",
      "SVC Model (C=25.0): 100.00% accurate\n",
      "\n",
      "seed=333\n",
      "SVC Model (C=1.0): 99.67% accurate\n",
      "SVC Model (C=2.5): 99.88% accurate\n",
      "SVC Model (C=5.0): 99.96% accurate\n",
      "SVC Model (C=10.0): 100.00% accurate\n",
      "SVC Model (C=15.0): 100.00% accurate\n",
      "SVC Model (C=20.0): 100.00% accurate\n",
      "SVC Model (C=25.0): 100.00% accurate\n",
      "\n",
      "seed=555\n",
      "SVC Model (C=1.0): 99.67% accurate\n",
      "SVC Model (C=2.5): 99.96% accurate\n",
      "SVC Model (C=5.0): 100.00% accurate\n",
      "SVC Model (C=10.0): 100.00% accurate\n",
      "SVC Model (C=15.0): 100.00% accurate\n",
      "SVC Model (C=20.0): 100.00% accurate\n",
      "SVC Model (C=25.0): 100.00% accurate\n",
      "\n",
      "seed=1234\n",
      "SVC Model (C=1.0): 99.51% accurate\n",
      "SVC Model (C=2.5): 99.84% accurate\n",
      "SVC Model (C=5.0): 99.84% accurate\n",
      "SVC Model (C=10.0): 100.00% accurate\n",
      "SVC Model (C=15.0): 100.00% accurate\n",
      "SVC Model (C=20.0): 100.00% accurate\n",
      "SVC Model (C=25.0): 100.00% accurate\n",
      "\n",
      "seed=32487\n",
      "SVC Model (C=1.0): 99.51% accurate\n",
      "SVC Model (C=2.5): 99.92% accurate\n",
      "SVC Model (C=5.0): 100.00% accurate\n",
      "SVC Model (C=10.0): 100.00% accurate\n",
      "SVC Model (C=15.0): 100.00% accurate\n",
      "SVC Model (C=20.0): 100.00% accurate\n",
      "SVC Model (C=25.0): 100.00% accurate\n",
      "\n",
      "seed=67209\n",
      "SVC Model (C=1.0): 99.88% accurate\n",
      "SVC Model (C=2.5): 99.96% accurate\n",
      "SVC Model (C=5.0): 100.00% accurate\n",
      "SVC Model (C=10.0): 100.00% accurate\n",
      "SVC Model (C=15.0): 100.00% accurate\n",
      "SVC Model (C=20.0): 100.00% accurate\n",
      "SVC Model (C=25.0): 100.00% accurate\n",
      "\n",
      "seed=176589\n",
      "SVC Model (C=1.0): 99.92% accurate\n",
      "SVC Model (C=2.5): 100.00% accurate\n",
      "SVC Model (C=5.0): 100.00% accurate\n",
      "SVC Model (C=10.0): 100.00% accurate\n",
      "SVC Model (C=15.0): 100.00% accurate\n",
      "SVC Model (C=20.0): 100.00% accurate\n",
      "SVC Model (C=25.0): 100.00% accurate\n"
     ]
    }
   ],
   "source": [
    "seeds = (245, 333, 555, 1234, 32487, 67209, 176589)\n",
    "\n",
    "for seed in seeds:\n",
    "    print '\\nseed=%d' % seed\n",
    "    # 70/30 split of data into training and test sets\n",
    "    X_train, X_test, y_train, y_test = train_test_split(X, y, test_size=0.3, random_state=seed)\n",
    "\n",
    "    C = (1.0, 2.5, 5.0, 10.0, 15.0, 20.0, 25.0)\n",
    "\n",
    "    for c in C:\n",
    "        clf = SVC(C=c)\n",
    "        clf.fit(X_train, y_train)\n",
    "        pred = clf.predict(X_test)\n",
    "\n",
    "        print 'SVC Model (C=%.1f): %.2f%% accurate' % (c, (metrics.accuracy_score(y_test, pred) * 100.0))"
   ]
  },
  {
   "cell_type": "markdown",
   "metadata": {},
   "source": [
    "It appears that increasing 'C' to 10 or more makes the model 100% accurate.  This is a good result when dealing with a safety issue such as edible or poisonous mushrooms.  Since there appears to be no problem in this case with increasing the value for the 'C' cost parameter perhaps a little safety margin is good and using a value such as 15 or 20 would be best.  Other SVC parameters could also be investigated, but since the model already shows 100% accuracy this seems unnecessary here."
   ]
  },
  {
   "cell_type": "markdown",
   "metadata": {},
   "source": [
    "Citation: Mushroom Data Set (1987). UCI Machine Learning Repository. Retrieved from: https://archive.ics.uci.edu/ml/datasets/mushroom. "
   ]
  }
 ],
 "metadata": {
  "kernelspec": {
   "display_name": "Python 2",
   "language": "python",
   "name": "python2"
  },
  "language_info": {
   "codemirror_mode": {
    "name": "ipython",
    "version": 2
   },
   "file_extension": ".py",
   "mimetype": "text/x-python",
   "name": "python",
   "nbconvert_exporter": "python",
   "pygments_lexer": "ipython2",
   "version": "2.7.13"
  }
 },
 "nbformat": 4,
 "nbformat_minor": 2
}

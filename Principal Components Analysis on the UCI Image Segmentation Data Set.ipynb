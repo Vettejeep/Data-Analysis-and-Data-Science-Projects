{
 "cells": [
  {
   "cell_type": "markdown",
   "metadata": {},
   "source": [
    "# Principal Components Analysis on the UCI Image Segmentation Data Set.\n",
    "### Kevin Maher\n",
    "### <span style=\"color:blue\">Vettejeep365@gmail.com</span>"
   ]
  },
  {
   "cell_type": "markdown",
   "metadata": {},
   "source": [
    "This is a multi-class classification problem.  The objective is to predict whether a picture is one of grass, path, window, etc.  There are 19 features and 2310 different instances in the model data from UCI.  My objective here is to determine if the number of features needed for the model might be reduced by using principal components analysis."
   ]
  },
  {
   "cell_type": "markdown",
   "metadata": {},
   "source": [
    "Imports needed for the script. Uses Python 2.7.13, numpy 1.11.3, pandas 0.19.2, sklearn 0.18.1, matplotlib 2.0.0."
   ]
  },
  {
   "cell_type": "code",
   "execution_count": 11,
   "metadata": {
    "collapsed": true
   },
   "outputs": [],
   "source": [
    "%matplotlib inline\n",
    "\n",
    "import pandas as pd\n",
    "\n",
    "from sklearn.ensemble import RandomForestClassifier\n",
    "import matplotlib.pyplot as plt\n",
    "from sklearn.model_selection import train_test_split\n",
    "from sklearn.preprocessing import StandardScaler\n",
    "from sklearn import decomposition\n",
    "from sklearn import metrics"
   ]
  },
  {
   "cell_type": "markdown",
   "metadata": {},
   "source": [
    "Read in the data.  Extra header rows in the UCI data file were manually deleted using OpenOffice."
   ]
  },
  {
   "cell_type": "code",
   "execution_count": 12,
   "metadata": {
    "collapsed": false
   },
   "outputs": [
    {
     "name": "stdout",
     "output_type": "stream",
     "text": [
      "   CLASS  REGION-CENTROID-COL  REGION-CENTROID-ROW  REGION-PIXEL-COUNT  \\\n",
      "0  GRASS                  110                  189                   9   \n",
      "1  GRASS                   86                  187                   9   \n",
      "2  GRASS                  225                  244                   9   \n",
      "3  GRASS                   47                  232                   9   \n",
      "4  GRASS                   97                  186                   9   \n",
      "\n",
      "   SHORT-LINE-DENSITY-5  SHORT-LINE-DENSITY-2  VEDGE-MEAN  VEDGE-SD  \\\n",
      "0                   0.0                   0.0    1.000000  0.666667   \n",
      "1                   0.0                   0.0    1.111111  0.720082   \n",
      "2                   0.0                   0.0    3.388889  2.195113   \n",
      "3                   0.0                   0.0    1.277778  1.254621   \n",
      "4                   0.0                   0.0    1.166667  0.691215   \n",
      "\n",
      "   HEDGE-MEAN  HEDGE-SD  INTENSITY-MEAN  RAWRED-MEAN  RAWBLUE-MEAN  \\\n",
      "0    1.222222  1.186342       12.925926    10.888889      9.222222   \n",
      "1    1.444444  0.750309       13.740741    11.666667     10.333334   \n",
      "2    3.000000  1.520234       12.259259    10.333334      9.333334   \n",
      "3    1.000000  0.894427       12.703704    11.000000      9.000000   \n",
      "4    1.166667  1.005540       15.592592    13.888889     11.777778   \n",
      "\n",
      "   RAWGREEN-MEAN  EXRED-MEAN  EXBLUE-MEAN  EXGREEN-MEAN  VALUE-MEAN  \\\n",
      "0      18.666668   -6.111111   -11.111111     17.222221   18.666668   \n",
      "1      19.222221   -6.222222   -10.222222     16.444445   19.222221   \n",
      "2      17.111110   -5.777778    -8.777778     14.555555   17.111110   \n",
      "3      18.111110   -5.111111   -11.111111     16.222221   18.111110   \n",
      "4      21.111110   -5.111111   -11.444445     16.555555   21.111110   \n",
      "\n",
      "   SATURATION-MEAN  HUE-MEAN  \n",
      "0         0.508139  1.910864  \n",
      "1         0.463329  1.941465  \n",
      "2         0.480149  1.987902  \n",
      "3         0.500966  1.875362  \n",
      "4         0.442661  1.863654  \n"
     ]
    }
   ],
   "source": [
    "df = pd.read_csv('segmentation.csv')\n",
    "print df.head()"
   ]
  },
  {
   "cell_type": "markdown",
   "metadata": {},
   "source": [
    "Prepare the data for machine learning by dividing between training and test sets."
   ]
  },
  {
   "cell_type": "code",
   "execution_count": 13,
   "metadata": {
    "collapsed": true
   },
   "outputs": [],
   "source": [
    "y = df['CLASS']\n",
    "X = df.drop('CLASS', axis=1)\n",
    "X_train, X_test, y_train, y_test = train_test_split(X, y, test_size=0.3, random_state=245)"
   ]
  },
  {
   "cell_type": "markdown",
   "metadata": {},
   "source": [
    "Scale the data for principal components analysis."
   ]
  },
  {
   "cell_type": "code",
   "execution_count": 14,
   "metadata": {
    "collapsed": true
   },
   "outputs": [],
   "source": [
    "sc = StandardScaler()\n",
    "sc.fit(X_train)\n",
    "X_train = sc.transform(X_train)\n",
    "X_test = sc.transform(X_test)"
   ]
  },
  {
   "cell_type": "markdown",
   "metadata": {},
   "source": [
    "Check machine learning accuracy with a Random Forest model."
   ]
  },
  {
   "cell_type": "code",
   "execution_count": 15,
   "metadata": {
    "collapsed": false
   },
   "outputs": [
    {
     "name": "stdout",
     "output_type": "stream",
     "text": [
      "RF Model: 95.40% accurate\n"
     ]
    }
   ],
   "source": [
    "n_est = 100\n",
    "clf = RandomForestClassifier(n_estimators=n_est, random_state=357)\n",
    "clf.fit(X_train, y_train)\n",
    "pred = clf.predict(X_test)\n",
    "print 'RF Model: %.2f%% accurate' % (metrics.accuracy_score(y_test, pred) * 100.0)"
   ]
  },
  {
   "cell_type": "markdown",
   "metadata": {},
   "source": [
    "Plot the amount of explained variance for each component of the principal components analysis model."
   ]
  },
  {
   "cell_type": "code",
   "execution_count": null,
   "metadata": {
    "collapsed": false
   },
   "outputs": [
    {
     "data": {
      "image/png": "[encoded data removed]",
      "text/plain": [
       "<matplotlib.figure.Figure at 0x241e278>"
      ]
     },
     "metadata": {},
     "output_type": "display_data"
    }
   ],
   "source": [
    "pca = decomposition.PCA()\n",
    "pca.fit(X_train)\n",
    "\n",
    "pca_var = pca.explained_variance_\n",
    "\n",
    "plt.plot(pca_var, linewidth=2)\n",
    "plt.axis('tight')\n",
    "plt.xlabel('n_components')\n",
    "plt.ylabel('explained_variance_')\n",
    "\n",
    "plt.show()\n",
    "plt.close()"
   ]
  },
  {
   "cell_type": "markdown",
   "metadata": {},
   "source": [
    "Looking at the graph above, it looks like we could cut the number of features to 13 without losing much in the way of model accuracy.  Lets try numbers of features from 10 to 19 to check this hypothesis."
   ]
  },
  {
   "cell_type": "code",
   "execution_count": null,
   "metadata": {
    "collapsed": false
   },
   "outputs": [
    {
     "name": "stdout",
     "output_type": "stream",
     "text": [
      "RF Model: 93.02% accurate with 10 PCA components\n",
      "RF Model: 94.13% accurate with 11 PCA components\n",
      "RF Model: 93.49% accurate with 12 PCA components\n",
      "RF Model: 95.71% accurate with 13 PCA components\n",
      "RF Model: 94.92% accurate with 14 PCA components\n",
      "RF Model: 95.40% accurate with 15 PCA components\n"
     ]
    }
   ],
   "source": [
    "for i in range(10, X.shape[1] + 1):\n",
    "    pca = decomposition.PCA(n_components=i)\n",
    "    pca.fit(X_train)\n",
    "    X_train_pca = pca.transform(X_train)\n",
    "    X_test_pca = pca.transform(X_test)\n",
    "\n",
    "    clf.fit(X_train_pca, y_train)\n",
    "    pred = clf.predict(X_test_pca)\n",
    "\n",
    "    print 'RF Model: %.2f%% accurate with %d PCA components' % ((metrics.accuracy_score(y_test, pred) * 100.0), i)"
   ]
  },
  {
   "cell_type": "markdown",
   "metadata": {},
   "source": [
    "13 seems to be a good number.  Accuracy is actually a little better than the baseline model (95.7% vs 95.4%) though this may vary some with the exact model used.  Notably, there is more than a 2% falloff in accuracy by going to 12 components.  "
   ]
  },
  {
   "cell_type": "markdown",
   "metadata": {},
   "source": [
    "This was not a large model so principal components analysis was not really necessary.  But, it illustrates how a model may be reduced in size without necessarily losing much if any model accuracy.  For a model with hundreds of features or more, principal components analysis can help to make for a smaller model that uses fewer computer resources in order to run."
   ]
  },
  {
   "cell_type": "markdown",
   "metadata": {},
   "source": [
    "Citation: Image Segmentation Data Set (1990). UCI Machine Learning Repository. Retrieved from: "
   ]
  },
  {
   "cell_type": "markdown",
   "metadata": {},
   "source": [
    "http://archive.ics.uci.edu/ml/datasets/image+segmentation"
   ]
  }
 ],
 "metadata": {
  "kernelspec": {
   "display_name": "Python 2",
   "language": "python",
   "name": "python2"
  },
  "language_info": {
   "codemirror_mode": {
    "name": "ipython",
    "version": 2
   },
   "file_extension": ".py",
   "mimetype": "text/x-python",
   "name": "python",
   "nbconvert_exporter": "python",
   "pygments_lexer": "ipython2",
   "version": "2.7.13"
  }
 },
 "nbformat": 4,
 "nbformat_minor": 2
}
